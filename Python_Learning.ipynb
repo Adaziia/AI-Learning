{
  "nbformat": 4,
  "nbformat_minor": 0,
  "metadata": {
    "colab": {
      "provenance": []
    },
    "kernelspec": {
      "name": "python3",
      "display_name": "Python 3"
    },
    "language_info": {
      "name": "python"
    }
  },
  "cells": [
    {
      "cell_type": "markdown",
      "source": [
        "NUMERIC **DATATYPES**"
      ],
      "metadata": {
        "id": "BoCMd2sjRJo2"
      }
    },
    {
      "cell_type": "code",
      "source": [
        "a=25\n",
        "print(a)#print is to display the input\n",
        "type(a)#type will display the data type"
      ],
      "metadata": {
        "colab": {
          "base_uri": "https://localhost:8080/"
        },
        "id": "7iaPCuM6Oixd",
        "outputId": "7b3e684e-ff7b-45bb-a873-5c8f66709766"
      },
      "execution_count": null,
      "outputs": [
        {
          "output_type": "stream",
          "name": "stdout",
          "text": [
            "25\n"
          ]
        },
        {
          "output_type": "execute_result",
          "data": {
            "text/plain": [
              "int"
            ]
          },
          "metadata": {},
          "execution_count": 2
        }
      ]
    },
    {
      "cell_type": "markdown",
      "source": [
        "We are learning different datatypes in Python\n",
        "#comment-- comments are not the part of the executable code, they are added only to increase the readibility.\n",
        "Ways to execute the code cell\n",
        "- shift + enter\n",
        "- ctrl + enter\n",
        "- play button\n",
        "\n"
      ],
      "metadata": {
        "id": "XJwf6PSuO57i"
      }
    },
    {
      "cell_type": "code",
      "execution_count": null,
      "metadata": {
        "colab": {
          "base_uri": "https://localhost:8080/"
        },
        "id": "oNcVcWOVOVFK",
        "outputId": "b520f3ba-086c-4185-84ed-6aa182f28383"
      },
      "outputs": [
        {
          "output_type": "stream",
          "name": "stdout",
          "text": [
            "-8.9\n"
          ]
        },
        {
          "output_type": "execute_result",
          "data": {
            "text/plain": [
              "float"
            ]
          },
          "metadata": {},
          "execution_count": 3
        }
      ],
      "source": [
        "b = -8.9\n",
        "print(b)\n",
        "type(b)"
      ]
    },
    {
      "cell_type": "code",
      "source": [
        "c= 5 + 6j\n",
        "print(c)\n",
        "type(c)"
      ],
      "metadata": {
        "colab": {
          "base_uri": "https://localhost:8080/"
        },
        "id": "MIiNeI3dQYuQ",
        "outputId": "44733516-0d67-4a6a-d6cf-a4d81928cbfb"
      },
      "execution_count": null,
      "outputs": [
        {
          "output_type": "stream",
          "name": "stdout",
          "text": [
            "(5+6j)\n"
          ]
        },
        {
          "output_type": "execute_result",
          "data": {
            "text/plain": [
              "complex"
            ]
          },
          "metadata": {},
          "execution_count": 4
        }
      ]
    },
    {
      "cell_type": "markdown",
      "source": [
        "SEQUENTIAL **DATATYPES**"
      ],
      "metadata": {
        "id": "qaLVsw_ERS0l"
      }
    },
    {
      "cell_type": "markdown",
      "source": [
        "String :Collections of Charaters. In str whatever characters you take should be incorporated inside the inverted comas. It is mutable."
      ],
      "metadata": {
        "id": "qkZXtfkfTmbV"
      }
    },
    {
      "cell_type": "code",
      "source": [
        "a=\"Ada\",\"Mangp\",\"Grapes\"\n",
        "print(a)\n",
        "type(a)"
      ],
      "metadata": {
        "colab": {
          "base_uri": "https://localhost:8080/"
        },
        "id": "Zx1csiIGSQhU",
        "outputId": "dbb64029-c51d-4688-ae7e-6e5607e9436c"
      },
      "execution_count": null,
      "outputs": [
        {
          "output_type": "stream",
          "name": "stdout",
          "text": [
            "('Ada', 'Mangp', 'Grapes')\n"
          ]
        },
        {
          "output_type": "execute_result",
          "data": {
            "text/plain": [
              "tuple"
            ]
          },
          "metadata": {},
          "execution_count": 14
        }
      ]
    },
    {
      "cell_type": "markdown",
      "source": [
        "List :Collection of elements. In list what elements you take should incorporated inside the square brackets[]. It is mutable means changeable, replaceable, possible to modify... It is use for the company purposes to modify the data every academy year."
      ],
      "metadata": {
        "id": "6l0rhw3oT6U4"
      }
    },
    {
      "cell_type": "code",
      "source": [
        "a=[\"apple\",23,4.5,\"Ashutosh\"]\n",
        "print(a)\n",
        "type(a)"
      ],
      "metadata": {
        "colab": {
          "base_uri": "https://localhost:8080/"
        },
        "id": "tndrCGRgSz2g",
        "outputId": "6ce8bdba-e1c6-48e5-e0ae-51ac27267b30"
      },
      "execution_count": null,
      "outputs": [
        {
          "output_type": "stream",
          "name": "stdout",
          "text": [
            "['apple', 23, 4.5, 'Ashutosh']\n"
          ]
        },
        {
          "output_type": "execute_result",
          "data": {
            "text/plain": [
              "list"
            ]
          },
          "metadata": {},
          "execution_count": 9
        }
      ]
    },
    {
      "cell_type": "markdown",
      "source": [
        "Tuple: Collection of elements. In tuples whatever elements you take should incorporated inside the bracket round bracket(). It is immutable means modification not possible....Use for the purpose of the vital important data or sensitive data where one cannnot modify.Private purpose e.g: aadhar card, pin no., ATM card. Personal information details."
      ],
      "metadata": {
        "id": "PgbW4mcyUXeA"
      }
    },
    {
      "cell_type": "code",
      "source": [
        "a= (\"apple\",45,-5.6,\"Orange\")\n",
        "print(a)\n",
        "type(a)"
      ],
      "metadata": {
        "colab": {
          "base_uri": "https://localhost:8080/"
        },
        "id": "Mt2d2mM_TQEi",
        "outputId": "3f61ec24-afa8-4458-a69c-27e3eca35300"
      },
      "execution_count": null,
      "outputs": [
        {
          "output_type": "stream",
          "name": "stdout",
          "text": [
            "('apple', 45, -5.6, 'Orange')\n"
          ]
        },
        {
          "output_type": "execute_result",
          "data": {
            "text/plain": [
              "tuple"
            ]
          },
          "metadata": {},
          "execution_count": 12
        }
      ]
    },
    {
      "cell_type": "markdown",
      "source": [
        "Boolean : We use TRUE AND VALUE with the conditions\n",
        "BUILT IN FUNCTIONS\n",
        "Built-in: available by defualt(exist without the creation)\n",
        "Function: Reusable product/ helper.\n",
        "print(): This function will display the contain in variable\n",
        "type(): This function will display the type of the content\n",
        "output(): This function will display the input which is put by user\n",
        "COMMENTS: are not a part of executable but they are added only to increase the readibility of a code.\n",
        "\n",
        "CONCATINATION: Merge two or more lists/ string"
      ],
      "metadata": {
        "id": "oi6pHE5acpOG"
      }
    },
    {
      "cell_type": "code",
      "source": [
        "L1=[1,2,3,4,5]\n",
        "L2=[\"Mango\",\"Apple\"]\n",
        "print(L1+L2)\n",
        "a='My'\n",
        "b='Desktop'\n",
        "print(a+\" \"+b)"
      ],
      "metadata": {
        "colab": {
          "base_uri": "https://localhost:8080/"
        },
        "id": "TYqe1D8hePOc",
        "outputId": "65d8b2f8-7e81-4953-be4c-5adfde9ee4c1"
      },
      "execution_count": null,
      "outputs": [
        {
          "output_type": "stream",
          "name": "stdout",
          "text": [
            "[1, 2, 3, 4, 5, 'Mango', 'Apple']\n",
            "My Desktop\n"
          ]
        }
      ]
    },
    {
      "cell_type": "markdown",
      "source": [
        "INDEXING: Fetch one element at a time\n",
        "Positive Index start from 0(left to right)\n",
        "Negative Index start from -1(right to left)\n",
        "Index no. can be +ve/-ve"
      ],
      "metadata": {
        "id": "VX4UTuYWe3D0"
      }
    },
    {
      "cell_type": "code",
      "source": [
        "a='Indian ocean'\n",
        "print(a[5])\n",
        "b='Indian Ocean'\n",
        "print(b[-4])\n"
      ],
      "metadata": {
        "colab": {
          "base_uri": "https://localhost:8080/"
        },
        "id": "4_jtWdGlfY3E",
        "outputId": "f76b1a07-97fe-445b-ddff-c1cdd1d6b593"
      },
      "execution_count": null,
      "outputs": [
        {
          "output_type": "stream",
          "name": "stdout",
          "text": [
            "n\n",
            "c\n"
          ]
        }
      ]
    },
    {
      "cell_type": "markdown",
      "source": [
        "CONCATINATION AND INDEXING"
      ],
      "metadata": {
        "id": "NXJLRM1bgDsP"
      }
    },
    {
      "cell_type": "code",
      "source": [
        "A='Indian'\n",
        "B='Ocean'\n",
        "print(A+\" \"+B)\n",
        "C=A+\" \"+B\n",
        "print(C[5])"
      ],
      "metadata": {
        "colab": {
          "base_uri": "https://localhost:8080/"
        },
        "id": "Dvtl7s6QgK0d",
        "outputId": "8559fcc8-68cf-4b56-82f3-3e32fff7c41b"
      },
      "execution_count": null,
      "outputs": [
        {
          "output_type": "stream",
          "name": "stdout",
          "text": [
            "Indian Ocean\n",
            "n\n"
          ]
        }
      ]
    },
    {
      "cell_type": "markdown",
      "source": [
        "SLICING :Fetch multiples elements at the time\n",
        "starting point[x:y]one before y (y-1)"
      ],
      "metadata": {
        "id": "KAGz1SqVghRm"
      }
    },
    {
      "cell_type": "code",
      "source": [
        "a=[1,2,3,4,5,6,\"ADA\",\"AGA\"]\n",
        "b=[\"JGFTD\",\"UJDYUI\"]\n",
        "print(a[0:4])\n",
        "print(a+b)\n",
        "g=a+b\n",
        "print(g[0:9])"
      ],
      "metadata": {
        "colab": {
          "base_uri": "https://localhost:8080/"
        },
        "id": "DrSM2h18g2YI",
        "outputId": "22cf9e73-1247-4537-cbf0-c7817d16ff3b"
      },
      "execution_count": null,
      "outputs": [
        {
          "output_type": "stream",
          "name": "stdout",
          "text": [
            "[1, 2, 3, 4]\n",
            "[1, 2, 3, 4, 5, 6, 'ADA', 'AGA', 'JGFTD', 'UJDYUI']\n",
            "[1, 2, 3, 4, 5, 6, 'ADA', 'AGA', 'JGFTD']\n"
          ]
        }
      ]
    }
  ]
}